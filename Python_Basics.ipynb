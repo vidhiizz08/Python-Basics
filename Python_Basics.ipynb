{
  "nbformat": 4,
  "nbformat_minor": 0,
  "metadata": {
    "colab": {
      "provenance": []
    },
    "kernelspec": {
      "name": "python3",
      "display_name": "Python 3"
    },
    "language_info": {
      "name": "python"
    }
  },
  "cells": [
    {
      "cell_type": "markdown",
      "source": [
        "# Python Basic Questions - Thoery\n"
      ],
      "metadata": {
        "id": "zXmr3ZmsZAwn"
      }
    },
    {
      "cell_type": "markdown",
      "source": [
        "**1. What is Python, and why is it popular ?**\n",
        " - Python is a high-level, interpreted programming language known for its simplicity, readability and versatility.It is popular because of its:\n",
        " - Easy syntax\n",
        " - It has many ready-to-use tools and libraries.\n",
        " - It is used in many fields like data science, web development, and AI.\n",
        "\n",
        "**2. What is an interpreter in Python?**\n",
        " - An interpreter in Python is a program that reads and executes Python code line-by-line, converting it into machine code for execution.\n",
        "\n",
        "**3. What are pre-defined keywords in Python?**\n",
        " - Pre-defined keywords are reserved words in Python that have special meanings and cannot be used for variable names, such as if, else, while, for, True, False, etc.\n",
        "\n",
        "**4. Can keywords be used as variable names?**\n",
        " - No, keywords cannot be used as variable names in Python because they are reserved for specific functionalities.\n",
        "\n",
        "**5. What is mutability in Python?**\n",
        " - Mutability refers to whether an objects value can be changed after creation. Mutable objects like lists can be modified, while immutable objects are tuples, strings cannot.\n",
        "\n",
        "**6. Why are lists mutable, but tuples are immutable?**\n",
        " - Lists are mutable because they are designed to allow changes (add, remove, or modify elements). Tuples are immutable to ensure data integrity and make them suitable for hash-based collections like dictionaries.\n",
        "\n",
        "**7. What is the difference between “==” and “is” operators in Python?**\n",
        " - '==' checks if the values of two objects are equal.\n",
        " - 'is' checks if two objects refer to the same memory location (identity).\n",
        "\n",
        "**8. What are logical operators in Python?**\n",
        " - Logical operators are used to combine conditional statements:\n",
        "  - and: True if both conditions are true\n",
        "  - or: True if at least one condition is true\n",
        "  - not: Reverses the truth value of a condition\n",
        "\n",
        "**9. What is type casting in Python?**\n",
        " - Type casting is the process of converting a variable from one data type to another, such as int(), float(), str(), etc.\n",
        "\n",
        "**10. What is the difference between implicit and explicit type casting?**\n",
        " - Implicit: Python automatically converts data types (e.g., int to float).\n",
        " - Explicit: The programmer manually converts data types using functions like int(), float(), etc.\n",
        "\n",
        "**11. What is the purpose of conditional statements in Python?**\n",
        " - Conditional statements control the flow of execution based on conditions. They allow programs to make decisions like if, else, elif.\n",
        "\n",
        "**12. How does the elif statement work?**\n",
        " - The elif statement checks multiple conditions. If the if condition is false, it checks subsequent elif conditions until one is true. If none are true, the else block executes.\n",
        "\n",
        "**13. What is the difference between for and while loops?**\n",
        " - For loop:\n",
        " Used when you know how many times you need to repeat the task.It works with a sequence (like a list, range, or string).\n",
        " - While loop:\n",
        " Used when you don’t know the exact number of repetitions beforehand.\n",
        "It keeps running until a condition becomes false.\n",
        "\n",
        "**14. Describe a scenario where a while loop is more suitable than a for loop?**\n",
        " - A while loop is better when you don’t know how many times you need to repeat.For example, asking a user to guess a number until they get it right.\n",
        "\n",
        "\n",
        "\n",
        "\n",
        "\n"
      ],
      "metadata": {
        "id": "fCihScjLZGnn"
      }
    },
    {
      "cell_type": "code",
      "source": [
        "password = \" \"\n",
        "while password != \"1234\":\n",
        "    password = input(\"Enter the correct password: \")\n",
        "print(\"Access granted!\")"
      ],
      "metadata": {
        "colab": {
          "base_uri": "https://localhost:8080/"
        },
        "id": "KvvcU091tL_7",
        "outputId": "c20098a8-d526-4deb-e56d-a5c3dcff9aad"
      },
      "execution_count": 10,
      "outputs": [
        {
          "output_type": "stream",
          "name": "stdout",
          "text": [
            "Enter the correct password: 1234\n",
            "Access granted!\n"
          ]
        }
      ]
    },
    {
      "cell_type": "markdown",
      "source": [
        "# Practical Questions\n"
      ],
      "metadata": {
        "id": "PjtejWsngG7_"
      }
    },
    {
      "cell_type": "code",
      "source": [
        "#1 Write a Python program to print \"Hello, World!\"\n",
        "\n",
        "print(\"Hello, World!\")"
      ],
      "metadata": {
        "colab": {
          "base_uri": "https://localhost:8080/"
        },
        "id": "2GVaZsWMgBSP",
        "outputId": "89ce2a0e-5648-4b77-8860-baff018b70d0"
      },
      "execution_count": null,
      "outputs": [
        {
          "output_type": "stream",
          "name": "stdout",
          "text": [
            "Hello, World!\n"
          ]
        }
      ]
    },
    {
      "cell_type": "code",
      "source": [
        "#2 Write a Python program that displays your name and age\n",
        "name = \"S.Vidhi Iyer\"\n",
        "age = 21\n",
        "print(\"Name: \",name)\n",
        "print(\"Age: \",age)\n"
      ],
      "metadata": {
        "colab": {
          "base_uri": "https://localhost:8080/"
        },
        "id": "CNOGHaYtgOyu",
        "outputId": "f0528eb8-3701-418c-cb14-9bbf69135fe6"
      },
      "execution_count": 1,
      "outputs": [
        {
          "output_type": "stream",
          "name": "stdout",
          "text": [
            "Name:  S.Vidhi Iyer\n",
            "Age:  21\n"
          ]
        }
      ]
    },
    {
      "cell_type": "code",
      "source": [
        "#3 Write code to print all the pre-defined keywords in Python using the keyword library\n",
        "help(\"keywords\")"
      ],
      "metadata": {
        "colab": {
          "base_uri": "https://localhost:8080/"
        },
        "id": "d8HCoJMHgOtY",
        "outputId": "202b8d8e-2e29-421b-8ccb-f90089337ce3"
      },
      "execution_count": null,
      "outputs": [
        {
          "output_type": "stream",
          "name": "stdout",
          "text": [
            "\n",
            "Here is a list of the Python keywords.  Enter any keyword to get more help.\n",
            "\n",
            "False               class               from                or\n",
            "None                continue            global              pass\n",
            "True                def                 if                  raise\n",
            "and                 del                 import              return\n",
            "as                  elif                in                  try\n",
            "assert              else                is                  while\n",
            "async               except              lambda              with\n",
            "await               finally             nonlocal            yield\n",
            "break               for                 not                 \n",
            "\n"
          ]
        }
      ]
    },
    {
      "cell_type": "code",
      "source": [
        "#4 Write a program that checks if a given word is a Python keyword.\n",
        "import keyword\n",
        "word = input(\"Enter a word to check if it's a Python keyword: \")\n",
        "if keyword.iskeyword(word):\n",
        "    print(f\"'{word}' is a Python keyword.\")\n",
        "else:\n",
        "    print(f\"'{word}' is NOT a Python keyword.\")\n"
      ],
      "metadata": {
        "colab": {
          "base_uri": "https://localhost:8080/"
        },
        "id": "4pXU3PDjgOqE",
        "outputId": "39aedeb3-9e1a-4bc2-c261-cc51bfd97057"
      },
      "execution_count": 9,
      "outputs": [
        {
          "output_type": "stream",
          "name": "stdout",
          "text": [
            "Enter a word to check if it's a Python keyword: in\n",
            "'in' is a Python keyword.\n"
          ]
        }
      ]
    },
    {
      "cell_type": "code",
      "source": [
        "#5 Create a list and tuple in Python, and demonstrate how attempting to change an element works differently for each.\n",
        "# This is for lists\n",
        "list_count = [1,3,5,7,9]\n",
        "print(list_count)"
      ],
      "metadata": {
        "colab": {
          "base_uri": "https://localhost:8080/"
        },
        "id": "cgOGojABgOoZ",
        "outputId": "97918934-ef23-46fe-8779-d00c6e9f24af"
      },
      "execution_count": null,
      "outputs": [
        {
          "output_type": "stream",
          "name": "stdout",
          "text": [
            "[1, 3, 5, 7, 9]\n"
          ]
        }
      ]
    },
    {
      "cell_type": "code",
      "source": [
        "# We can change the list element and it is mutable object.\n",
        "list_count[2]= 22\n",
        "print(list_count)"
      ],
      "metadata": {
        "colab": {
          "base_uri": "https://localhost:8080/"
        },
        "id": "3fHPmMxPgOgt",
        "outputId": "df390cba-9cc4-4822-d6a0-f3bee00540b8"
      },
      "execution_count": null,
      "outputs": [
        {
          "output_type": "stream",
          "name": "stdout",
          "text": [
            "[1, 3, 22, 7, 9]\n"
          ]
        }
      ]
    },
    {
      "cell_type": "code",
      "source": [
        "# This is for tuples\n",
        "tuple_count = (1,3,4,5,6)\n",
        "print(tuple_count)"
      ],
      "metadata": {
        "colab": {
          "base_uri": "https://localhost:8080/"
        },
        "id": "6E4bjh52gOdQ",
        "outputId": "ae2733be-acb6-41d5-b616-5b0d2d04d54c"
      },
      "execution_count": null,
      "outputs": [
        {
          "output_type": "stream",
          "name": "stdout",
          "text": [
            "(1, 3, 4, 5, 6)\n"
          ]
        }
      ]
    },
    {
      "cell_type": "code",
      "source": [
        "# we can not change the tuple elment beause it is immutable.\n",
        "tuple_count[2] = 33\n",
        "print(tuple_count)\n",
        "# As you can see its show error below"
      ],
      "metadata": {
        "colab": {
          "base_uri": "https://localhost:8080/",
          "height": 193
        },
        "id": "wu36u-B8gOay",
        "outputId": "bb3c7011-2ab4-4ad3-97a6-38e440589695"
      },
      "execution_count": null,
      "outputs": [
        {
          "output_type": "error",
          "ename": "TypeError",
          "evalue": "'tuple' object does not support item assignment",
          "traceback": [
            "\u001b[0;31m---------------------------------------------------------------------------\u001b[0m",
            "\u001b[0;31mTypeError\u001b[0m                                 Traceback (most recent call last)",
            "\u001b[0;32m<ipython-input-9-bdeebf7f4ebf>\u001b[0m in \u001b[0;36m<cell line: 2>\u001b[0;34m()\u001b[0m\n\u001b[1;32m      1\u001b[0m \u001b[0;31m# we can not change the tuple elment beause it is immutable.\u001b[0m\u001b[0;34m\u001b[0m\u001b[0;34m\u001b[0m\u001b[0m\n\u001b[0;32m----> 2\u001b[0;31m \u001b[0mtuple_count\u001b[0m\u001b[0;34m[\u001b[0m\u001b[0;36m2\u001b[0m\u001b[0;34m]\u001b[0m \u001b[0;34m=\u001b[0m \u001b[0;36m33\u001b[0m\u001b[0;34m\u001b[0m\u001b[0;34m\u001b[0m\u001b[0m\n\u001b[0m\u001b[1;32m      3\u001b[0m \u001b[0mprint\u001b[0m\u001b[0;34m(\u001b[0m\u001b[0mtuple_count\u001b[0m\u001b[0;34m)\u001b[0m\u001b[0;34m\u001b[0m\u001b[0;34m\u001b[0m\u001b[0m\n\u001b[1;32m      4\u001b[0m \u001b[0;31m# As you can see its show error below\u001b[0m\u001b[0;34m\u001b[0m\u001b[0;34m\u001b[0m\u001b[0m\n",
            "\u001b[0;31mTypeError\u001b[0m: 'tuple' object does not support item assignment"
          ]
        }
      ]
    },
    {
      "cell_type": "code",
      "source": [
        "#6 Write a function to demonstrate the behavior of mutable and immutable arguments.\n",
        "list1 =[2,4,6,8]\n",
        "B = \"PwSkills\"\n",
        "list1[3]=20\n",
        "print(list1)\n"
      ],
      "metadata": {
        "colab": {
          "base_uri": "https://localhost:8080/"
        },
        "id": "PgaIoPIAgOYL",
        "outputId": "83a5ecc0-bf20-4e02-965a-03b9d6e9d6fb"
      },
      "execution_count": null,
      "outputs": [
        {
          "output_type": "stream",
          "name": "stdout",
          "text": [
            "[2, 4, 6, 20]\n"
          ]
        }
      ]
    },
    {
      "cell_type": "code",
      "source": [
        "# Write a function to demonstrate the behavior of mutable and immutable arguments.\n",
        "def demonstrate_args(mutable_list, immutable_number):\n",
        "    mutable_list.append(10)\n",
        "    print(\"Inside function - Mutable list:\", mutable_list)\n",
        "    immutable_number += 10\n",
        "    print(\"Inside function - Immutable number:\", immutable_number)\n",
        "my_list = [1, 2, 3]\n",
        "my_number = 5\n",
        "print(\"Before function call:\")\n",
        "print(\"Mutable list:\", my_list)\n",
        "print(\"Immutable number:\", my_number)\n",
        "\n",
        "demonstrate_args(my_list, my_number)\n",
        "print(\"After function call:\")\n",
        "print(\"Mutable list:\", my_list)\n",
        "print(\"Immutable number:\", my_number)\n",
        "\n"
      ],
      "metadata": {
        "colab": {
          "base_uri": "https://localhost:8080/"
        },
        "id": "ucI-a4ljos73",
        "outputId": "ee15d39a-c7f6-4f44-9600-6856bf769fb7"
      },
      "execution_count": null,
      "outputs": [
        {
          "output_type": "stream",
          "name": "stdout",
          "text": [
            "Before function call:\n",
            "Mutable list: [1, 2, 3]\n",
            "Immutable number: 5\n",
            "Inside function - Mutable list: [1, 2, 3, 10]\n",
            "Inside function - Immutable number: 15\n",
            "After function call:\n",
            "Mutable list: [1, 2, 3, 10]\n",
            "Immutable number: 5\n"
          ]
        }
      ]
    },
    {
      "cell_type": "code",
      "source": [
        "#8 Write a program to demonstrate the use of logical operators.\n",
        "a = 4\n",
        "b = 0\n",
        "print(f\"a and b : {a>0 and b>0}\")  #true if both are greater than 0\n",
        "print(f\"a or b : {a>0 or b>0}\")    #true if at least on is greater than 0\n",
        "print(f\"not a : {not (a>0)}\")      # negative the condition"
      ],
      "metadata": {
        "colab": {
          "base_uri": "https://localhost:8080/"
        },
        "id": "mFkD3z8BgOVv",
        "outputId": "05879528-2aa8-4728-fedd-0780fa747833"
      },
      "execution_count": null,
      "outputs": [
        {
          "output_type": "stream",
          "name": "stdout",
          "text": [
            "a and b : False\n",
            "a or b : True\n",
            "not a : False\n"
          ]
        }
      ]
    },
    {
      "cell_type": "code",
      "source": [
        "#9 Write a Python program to convert user input from string to integer, float, and boolean types.\n",
        "a = input(\"Enter user input: \")\n",
        "print(\"Orginal Type: \",type(a))\n",
        "print(\"Convert to integer: \",type(int(a)))\n",
        "print(\"Convert to float: \",type(float(a)))\n",
        "print(\"Convert to boolean: \",type(bool(a)))\n"
      ],
      "metadata": {
        "colab": {
          "base_uri": "https://localhost:8080/"
        },
        "id": "__KZI5UygOTG",
        "outputId": "3fa33479-6dc8-474d-944e-c5f34f90a6eb"
      },
      "execution_count": 8,
      "outputs": [
        {
          "output_type": "stream",
          "name": "stdout",
          "text": [
            "Enter user input: 30\n",
            "Orginal Type:  <class 'str'>\n",
            "Convert to integer:  <class 'int'>\n",
            "Convert to float:  <class 'float'>\n",
            "Convert to boolean:  <class 'bool'>\n"
          ]
        }
      ]
    },
    {
      "cell_type": "code",
      "source": [
        "#10 Write code to demonstrate type casting with list elements\n",
        "data = [\"1\", \"2\", \"3\", \"4\", \"5\"]\n",
        "\n",
        "# Convert list elements to integers\n",
        "int_data = [int(x) for x in data]\n",
        "print(\"List with integers:\", int_data)\n",
        "\n",
        "# Convert list elements to floats\n",
        "float_data = [float(x) for x in data]\n",
        "print(\"List with floats:\", float_data)\n",
        "\n",
        "# Convert list elements to strings (redundant here, but shows the concept)\n",
        "string_data = [str(x) for x in int_data]\n",
        "print(\"List with strings:\", string_data)\n"
      ],
      "metadata": {
        "colab": {
          "base_uri": "https://localhost:8080/"
        },
        "id": "KkP1gGoolrmT",
        "outputId": "060103e9-dfe5-4249-874d-de689ecd9cfc"
      },
      "execution_count": null,
      "outputs": [
        {
          "output_type": "stream",
          "name": "stdout",
          "text": [
            "List with integers: [1, 2, 3, 4, 5]\n",
            "List with floats: [1.0, 2.0, 3.0, 4.0, 5.0]\n",
            "List with strings: ['1', '2', '3', '4', '5']\n"
          ]
        }
      ]
    },
    {
      "cell_type": "code",
      "source": [
        "#11 Write a program that checks if a number is positive, negative, or zero.\n",
        "num = float(input(\"Enter a number: \"))\n",
        "if num > 0:\n",
        "    print(\"The number is positive.\")\n",
        "elif num < 0:\n",
        "    print(\"The number is negative.\")\n",
        "else:\n",
        "    print(\"The number is zero.\")\n"
      ],
      "metadata": {
        "colab": {
          "base_uri": "https://localhost:8080/"
        },
        "id": "D4wES10WlrVD",
        "outputId": "c9d0453a-2bc0-455c-de35-fe32ae89d06b"
      },
      "execution_count": 7,
      "outputs": [
        {
          "output_type": "stream",
          "name": "stdout",
          "text": [
            "Enter a number: 8\n",
            "The number is positive.\n"
          ]
        }
      ]
    },
    {
      "cell_type": "code",
      "source": [
        "#12 Write a for loop to print numbers from 1 to 100\n",
        "for i in range(1, 11):\n",
        "    print(i, end=\" \")\n"
      ],
      "metadata": {
        "colab": {
          "base_uri": "https://localhost:8080/"
        },
        "id": "bEUuEI4pl9U8",
        "outputId": "9a8b06ac-1a98-4ac3-a473-b5a25140d386"
      },
      "execution_count": null,
      "outputs": [
        {
          "output_type": "stream",
          "name": "stdout",
          "text": [
            "1 2 3 4 5 6 7 8 9 10 "
          ]
        }
      ]
    },
    {
      "cell_type": "code",
      "source": [
        "#13 Write a Python program to find the sum of all even numbers between 1 and 50\n",
        "sum_even = 0\n",
        "for num in range(1, 51):\n",
        "    if num % 2 == 0:\n",
        "        sum_even += num\n",
        "print(\"The sum of all even numbers between 1 and 50 is:\", sum_even)\n"
      ],
      "metadata": {
        "colab": {
          "base_uri": "https://localhost:8080/"
        },
        "id": "vjY1XRBBl9Rb",
        "outputId": "8fc86f92-39fd-4727-cf20-cc26073bac2c"
      },
      "execution_count": null,
      "outputs": [
        {
          "output_type": "stream",
          "name": "stdout",
          "text": [
            "The sum of all even numbers between 1 and 50 is: 650\n"
          ]
        }
      ]
    },
    {
      "cell_type": "code",
      "source": [
        "#14 Write a program to reverse a string using a while loop\n",
        "string = input(\"Enter a string: \")\n",
        "\n",
        "reversed_string = \"\"\n",
        "index = len(string) - 1\n",
        "while index >= 0:\n",
        "    reversed_string += string[index]\n",
        "    index -= 1\n",
        "print(\"Reversed string:\", reversed_string)\n"
      ],
      "metadata": {
        "colab": {
          "base_uri": "https://localhost:8080/"
        },
        "id": "jH6aBC5Xl9O4",
        "outputId": "9160ad0a-3f89-486a-e97b-f6fdbae1f9cc"
      },
      "execution_count": 6,
      "outputs": [
        {
          "output_type": "stream",
          "name": "stdout",
          "text": [
            "Enter a string: 2 4 6 8 11\n",
            "Reversed string: 11 8 6 4 2\n"
          ]
        }
      ]
    },
    {
      "cell_type": "code",
      "source": [
        "#15 Write a Python program to calculate the factorial of a number provided by the user using a while loop\n",
        "num = int(input(\"Enter a number to calculate its factorial: \"))\n",
        "factorial = 1\n",
        "current = num\n",
        "while current > 0:\n",
        "    factorial *= current\n",
        "    current -= 1\n",
        "print(f\"The factorial of {num} is:\", factorial)\n"
      ],
      "metadata": {
        "colab": {
          "base_uri": "https://localhost:8080/"
        },
        "id": "_29ngNO3lrPl",
        "outputId": "3beeaaa2-882a-4f98-d156-c77f43a4e267"
      },
      "execution_count": 4,
      "outputs": [
        {
          "output_type": "stream",
          "name": "stdout",
          "text": [
            "Enter a number to calculate its factorial: 5\n",
            "The factorial of 5 is: 120\n"
          ]
        }
      ]
    }
  ]
}